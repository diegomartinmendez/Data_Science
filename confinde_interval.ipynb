{
 "cells": [
  {
   "cell_type": "markdown",
   "id": "80741513-978d-480c-9633-3073a93d069e",
   "metadata": {},
   "source": [
    "# Confidence interval analysis"
   ]
  },
  {
   "cell_type": "code",
   "execution_count": 62,
   "id": "3e70b0f3-0fb9-4d2f-89f1-238fd6331d0a",
   "metadata": {},
   "outputs": [],
   "source": [
    "import numpy as np\n",
    "import pandas as pd\n",
    "import scipy\n",
    "import seaborn as sns\n",
    "import matplotlib.pyplot as plt\n",
    "%matplotlib inline\n",
    "from scipy import stats\n",
    "import math"
   ]
  },
  {
   "cell_type": "markdown",
   "id": "0203bb9a-cdd6-493d-8d23-bbe1efd6bdee",
   "metadata": {},
   "source": [
    "## Dataset"
   ]
  },
  {
   "cell_type": "markdown",
   "id": "1d9123bb-f32d-4cd1-98c9-4112c468d3ac",
   "metadata": {},
   "source": [
    "The dataset gives a score to members of social network based on their influence. The score is a numeric value between 1 and 100, where higher score means higher social influence. \n",
    "The size of the dataset is 1048 rows."
   ]
  },
  {
   "cell_type": "code",
   "execution_count": 63,
   "id": "8fa46309-86c1-42a6-9e0e-5ab7f97bd696",
   "metadata": {},
   "outputs": [
    {
     "name": "stdout",
     "output_type": "stream",
     "text": [
      "<class 'pandas.core.frame.DataFrame'>\n",
      "RangeIndex: 1048 entries, 0 to 1047\n",
      "Data columns (total 1 columns):\n",
      " #   Column  Non-Null Count  Dtype  \n",
      "---  ------  --------------  -----  \n",
      " 0   scores  1048 non-null   float64\n",
      "dtypes: float64(1)\n",
      "memory usage: 8.3 KB\n"
     ]
    }
   ],
   "source": [
    "data = pd.read_csv('../Datasets/klout-scores.csv', header=None, names=['scores'])\n",
    "data.info()"
   ]
  },
  {
   "cell_type": "code",
   "execution_count": 64,
   "id": "c652e449-5000-4dae-8a5b-87bf56e1ced2",
   "metadata": {},
   "outputs": [
    {
     "name": "stdout",
     "output_type": "stream",
     "text": [
      "(1048, 1)\n"
     ]
    },
    {
     "data": {
      "text/html": [
       "<div>\n",
       "<style scoped>\n",
       "    .dataframe tbody tr th:only-of-type {\n",
       "        vertical-align: middle;\n",
       "    }\n",
       "\n",
       "    .dataframe tbody tr th {\n",
       "        vertical-align: top;\n",
       "    }\n",
       "\n",
       "    .dataframe thead th {\n",
       "        text-align: right;\n",
       "    }\n",
       "</style>\n",
       "<table border=\"1\" class=\"dataframe\">\n",
       "  <thead>\n",
       "    <tr style=\"text-align: right;\">\n",
       "      <th></th>\n",
       "      <th>scores</th>\n",
       "    </tr>\n",
       "  </thead>\n",
       "  <tbody>\n",
       "    <tr>\n",
       "      <th>0</th>\n",
       "      <td>25.104179</td>\n",
       "    </tr>\n",
       "    <tr>\n",
       "      <th>1</th>\n",
       "      <td>60.908747</td>\n",
       "    </tr>\n",
       "    <tr>\n",
       "      <th>2</th>\n",
       "      <td>23.222238</td>\n",
       "    </tr>\n",
       "    <tr>\n",
       "      <th>3</th>\n",
       "      <td>51.553491</td>\n",
       "    </tr>\n",
       "    <tr>\n",
       "      <th>4</th>\n",
       "      <td>22.629690</td>\n",
       "    </tr>\n",
       "  </tbody>\n",
       "</table>\n",
       "</div>"
      ],
      "text/plain": [
       "      scores\n",
       "0  25.104179\n",
       "1  60.908747\n",
       "2  23.222238\n",
       "3  51.553491\n",
       "4  22.629690"
      ]
     },
     "execution_count": 64,
     "metadata": {},
     "output_type": "execute_result"
    }
   ],
   "source": [
    "print(data.shape)\n",
    "data.head()"
   ]
  },
  {
   "cell_type": "code",
   "execution_count": 72,
   "id": "78df6c1b-415e-4e61-b5dd-b27148021b85",
   "metadata": {},
   "outputs": [
    {
     "data": {
      "text/plain": [
       "<AxesSubplot:xlabel='scores', ylabel='Count'>"
      ]
     },
     "execution_count": 72,
     "metadata": {},
     "output_type": "execute_result"
    },
    {
     "data": {
      "image/png": "[encoded data removed]",
      "text/plain": [
       "<Figure size 432x288 with 1 Axes>"
      ]
     },
     "metadata": {
      "needs_background": "light"
     },
     "output_type": "display_data"
    }
   ],
   "source": [
    "sns.histplot(data.scores , color = 'orange' )"
   ]
  },
  {
   "cell_type": "markdown",
   "id": "5d8277e0-d0ab-4a2b-b990-6d19f82ea661",
   "metadata": {},
   "source": [
    "#### Arithmetic mean"
   ]
  },
  {
   "cell_type": "code",
   "execution_count": 66,
   "id": "b8ed4100-fbea-46dc-8efc-e9074ae8ea17",
   "metadata": {},
   "outputs": [
    {
     "data": {
      "text/plain": [
       "37.719054832538156"
      ]
     },
     "execution_count": 66,
     "metadata": {},
     "output_type": "execute_result"
    }
   ],
   "source": [
    "data_mean = data.scores.mean()\n",
    "data_mean"
   ]
  },
  {
   "cell_type": "markdown",
   "id": "251adfb3-b75e-4c49-be9c-728d03a8975c",
   "metadata": {},
   "source": [
    "#### Standard deviation"
   ]
  },
  {
   "cell_type": "code",
   "execution_count": 67,
   "id": "9ca37015-a249-4f07-a4cd-79f57dddbee2",
   "metadata": {},
   "outputs": [
    {
     "data": {
      "text/plain": [
       "16.04431497904899"
      ]
     },
     "execution_count": 67,
     "metadata": {},
     "output_type": "execute_result"
    }
   ],
   "source": [
    "data_sd = data.scores.std()\n",
    "data_sd"
   ]
  },
  {
   "cell_type": "markdown",
   "id": "3b907e94-ee9b-4a4c-b182-5d80d1826a77",
   "metadata": {},
   "source": [
    "#### Standard error"
   ]
  },
  {
   "cell_type": "code",
   "execution_count": 68,
   "id": "c090f74c-214e-4fcb-947c-2fa51ff9025d",
   "metadata": {},
   "outputs": [
    {
     "data": {
      "text/plain": [
       "0.49561054484656264"
      ]
     },
     "execution_count": 68,
     "metadata": {},
     "output_type": "execute_result"
    }
   ],
   "source": [
    "n = data.shape[0]\n",
    "data_se = data_sd / math.sqrt(n)\n",
    "data_se"
   ]
  },
  {
   "cell_type": "markdown",
   "id": "9d585062-3a71-49b0-ba04-c0f4e0519504",
   "metadata": {},
   "source": [
    "#### z-scores"
   ]
  },
  {
   "cell_type": "code",
   "execution_count": 69,
   "id": "d6110891-f83a-4ca5-bec0-5ccc8a603f8a",
   "metadata": {},
   "outputs": [
    {
     "data": {
      "text/plain": [
       "(-1.959963984540054, 1.959963984540054)"
      ]
     },
     "execution_count": 69,
     "metadata": {},
     "output_type": "execute_result"
    }
   ],
   "source": [
    "alpha = 0.05\n",
    "confidence_coef = 1 - alpha\n",
    "zscore_interval = stats.norm.interval(alpha=confidence_coef)\n",
    "zscore_interval"
   ]
  },
  {
   "cell_type": "markdown",
   "id": "eb9b9487-e7a8-42ee-ad74-dce9eb40e136",
   "metadata": {},
   "source": [
    "#### Confidence interval"
   ]
  },
  {
   "cell_type": "code",
   "execution_count": 61,
   "id": "f9544238-f500-48b0-8c35-c34994a1f6e2",
   "metadata": {},
   "outputs": [
    {
     "data": {
      "text/plain": [
       "(36.74767601428062, 38.69043365079569)"
      ]
     },
     "execution_count": 61,
     "metadata": {},
     "output_type": "execute_result"
    }
   ],
   "source": [
    "data_CI_mean_lower = data_mean - critical_value * data_se\n",
    "data_CI_mean_upper = data_mean + critical_value * data_se\n",
    "data_CI_mean_lower, data_CI_mean_upper"
   ]
  }
 ],
 "metadata": {
  "kernelspec": {
   "display_name": "Python 3",
   "language": "python",
   "name": "python3"
  },
  "language_info": {
   "codemirror_mode": {
    "name": "ipython",
    "version": 3
   },
   "file_extension": ".py",
   "mimetype": "text/x-python",
   "name": "python",
   "nbconvert_exporter": "python",
   "pygments_lexer": "ipython3",
   "version": "3.7.11"
  }
 },
 "nbformat": 4,
 "nbformat_minor": 5
}
